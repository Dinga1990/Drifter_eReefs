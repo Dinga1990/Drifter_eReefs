{
 "cells": [
  {
   "cell_type": "code",
   "execution_count": 1,
   "id": "dacc02f2",
   "metadata": {},
   "outputs": [],
   "source": [
    "from parcels import FieldSet, ParticleSet, JITParticle, ParticleFile, plotTrajectoriesFile\n",
    "from parcels import AdvectionRK4\n",
    "import numpy as np\n",
    "from datetime import timedelta as delta\n",
    "%matplotlib inline\n",
    "\n",
    "import xarray as xr"
   ]
  },
  {
   "attachments": {},
   "cell_type": "markdown",
   "id": "06d3ee7d",
   "metadata": {},
   "source": [
    "Data needs to be downloaded to work in this notebook\n",
    "Download eReefs data from https://dapds00.nci.org.au/thredds/fileServer/fx3/gbr1_2.0/gbr1_simple_2022-05-01.nc \n",
    "\n",
    "Have this data within the local workspace to be used."
   ]
  },
  {
   "cell_type": "code",
   "execution_count": null,
   "id": "ec32612e",
   "metadata": {},
   "outputs": [],
   "source": [
    "# This opens the dataset for inspection.\n",
    "parcels = xr.open_dataset('gbr1_simple_2023-02-01.nc')\n",
    "# dropped variables that are not required for Parcels to work\n",
    "parcels = parcels.drop(['dhw0','dhw1','dhw2','dhw3','RT_expose','swr','temp_expose','salt','wspeed_u','wspeed_v'])\n",
    "#drops the depth variable, so that data is smaller and easier to work with. \n",
    "parcels = parcels.sel(k=42) #represents the surface.\n",
    "parcels"
   ]
  },
  {
   "cell_type": "code",
   "execution_count": null,
   "id": "ca241830",
   "metadata": {},
   "outputs": [],
   "source": [
    "#saves this local netcdf\n",
    "\n",
    "#parcels.to_netcdf(path='parcels.nc')"
   ]
  },
  {
   "attachments": {},
   "cell_type": "markdown",
   "id": "d80e4161",
   "metadata": {},
   "source": [
    "## Drifters within eReefs"
   ]
  },
  {
   "cell_type": "code",
   "execution_count": 13,
   "id": "69d23b7c",
   "metadata": {},
   "outputs": [],
   "source": [
    "filenames = {'U': 'parcels.nc',\n",
    "             'V': 'parcels.nc'}\n",
    "\n",
    "variables = {'U': 'u',\n",
    "             'V': 'v'}\n",
    "dimensions = {'U': {'lat': 'latitude', 'lon': 'longitude', 'time': 'time'},\n",
    "              'V': {'lat': 'latitude', 'lon': 'longitude', 'time': 'time'}}\n",
    "field_set = FieldSet.from_netcdf(filenames, variables, dimensions, allow_time_extrapolation=True)"
   ]
  },
  {
   "cell_type": "code",
   "execution_count": null,
   "id": "e5f3c6ae",
   "metadata": {},
   "outputs": [],
   "source": [
    "field_set.U.show()\n",
    "\n",
    "#This result doesn't work but doesn't impact the running of the code. \n",
    "\n",
    "#This is the error\n",
    "'''ValueError: x and y arguments to pcolormesh cannot have non-finite values or be of type numpy.ma.core.MaskedArray with masked values'''"
   ]
  },
  {
   "cell_type": "code",
   "execution_count": null,
   "id": "85853a43",
   "metadata": {},
   "outputs": [],
   "source": [
    "npart = 10  # number of particles to be released\n",
    "time = np.arange(0,npart)*delta(minutes=40).total_seconds()  # release every particle in a delayed mode\n",
    "\n",
    "pset = ParticleSet.from_line(fieldset=field_set, \n",
    "                             pclass=JITParticle,\n",
    "                             size=npart,             # releasing X particles\n",
    "                             start=(147.6, -19.2),   # releasing on a line: the start longitude and latitude\n",
    "                             finish=(147.8, -19.0),\n",
    "                             time=time)  # release every particle one hour"
   ]
  },
  {
   "cell_type": "code",
   "execution_count": null,
   "id": "3c8f9d8e",
   "metadata": {},
   "outputs": [],
   "source": [
    "print(pset)\n",
    "pset.show()"
   ]
  },
  {
   "cell_type": "code",
   "execution_count": null,
   "id": "cf765502",
   "metadata": {},
   "outputs": [],
   "source": [
    "output_file = pset.ParticleFile(name=\"CurrentParticles.zarr\", outputdt=delta(hours=1))  # the file name and the time step of the outputs\n",
    "\n",
    "pset.execute(AdvectionRK4,  # the kernel (which defines how particles move)\n",
    "             runtime=delta(days=10), # the total length of the run\n",
    "             dt=delta(minutes=5), # the timestep of the kernel\n",
    "             output_file=output_file,\n",
    "             )\n",
    "\n",
    "output_zarr = 'CurrentParticles.zarr'\n",
    "try:\n",
    "    os.remove(output_zarr)\n",
    "except OSError:\n",
    "    pass"
   ]
  },
  {
   "cell_type": "code",
   "execution_count": null,
   "id": "f96b02d3",
   "metadata": {},
   "outputs": [],
   "source": [
    "parcels = xr.open_dataset('parcels.nc')"
   ]
  },
  {
   "cell_type": "code",
   "execution_count": null,
   "id": "9609bcf1",
   "metadata": {},
   "outputs": [],
   "source": [
    "print(pset)\n",
    "pset.show()"
   ]
  },
  {
   "attachments": {},
   "cell_type": "markdown",
   "id": "ef0843b1",
   "metadata": {},
   "source": [
    "Plotting of the files"
   ]
  },
  {
   "cell_type": "code",
   "execution_count": null,
   "id": "aa3a65d7",
   "metadata": {},
   "outputs": [],
   "source": [
    "plotTrajectoriesFile(output_zarr, mode='movie2d_notebook')"
   ]
  },
  {
   "cell_type": "code",
   "execution_count": null,
   "id": "0414121c",
   "metadata": {},
   "outputs": [],
   "source": [
    "plotTrajectoriesFile(output_zarr, mode='hist2d', bins=[30, 20]);"
   ]
  }
 ],
 "metadata": {
  "kernelspec": {
   "display_name": "Python 3 (ipykernel)",
   "language": "python",
   "name": "python3"
  },
  "language_info": {
   "codemirror_mode": {
    "name": "ipython",
    "version": 3
   },
   "file_extension": ".py",
   "mimetype": "text/x-python",
   "name": "python",
   "nbconvert_exporter": "python",
   "pygments_lexer": "ipython3",
   "version": "3.10.9"
  }
 },
 "nbformat": 4,
 "nbformat_minor": 5
}
